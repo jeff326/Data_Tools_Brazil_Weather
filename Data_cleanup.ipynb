{
 "cells": [
  {
   "cell_type": "code",
   "execution_count": 7,
   "metadata": {},
   "outputs": [],
   "source": [
    "import pandas as pd\n",
    "import numpy as np\n",
    "import matplotlib.pyplot as plt\n",
    "from IPython.display import display\n",
    "pd.options.display.max_columns = None\n",
    "pd.options.display.max_rows = None"
   ]
  },
  {
   "cell_type": "code",
   "execution_count": 8,
   "metadata": {},
   "outputs": [],
   "source": [
    "df = pd.read_csv('/Users/sanjayroberts1/Desktop/data_science_tools1/sudeste.csv')"
   ]
  },
  {
   "cell_type": "code",
   "execution_count": 9,
   "metadata": {},
   "outputs": [],
   "source": [
    "df = df.set_index('mdct')\n",
    "df.index = pd.to_datetime(df.index)"
   ]
  },
  {
   "cell_type": "code",
   "execution_count": 16,
   "metadata": {},
   "outputs": [],
   "source": [
    "d = {}\n",
    "for col in df:\n",
    "    d[col] = df[col].unique().tolist()"
   ]
  },
  {
   "cell_type": "code",
   "execution_count": null,
   "metadata": {},
   "outputs": [],
   "source": []
  },
  {
   "cell_type": "code",
   "execution_count": 30,
   "metadata": {},
   "outputs": [
    {
     "name": "stderr",
     "output_type": "stream",
     "text": [
      "IOPub data rate exceeded.\n",
      "The notebook server will temporarily stop sending output\n",
      "to the client in order to avoid crashing it.\n",
      "To change this limit, set the config variable\n",
      "`--NotebookApp.iopub_data_rate_limit`.\n",
      "\n",
      "Current values:\n",
      "NotebookApp.iopub_data_rate_limit=1000000.0 (bytes/sec)\n",
      "NotebookApp.rate_limit_window=3.0 (secs)\n",
      "\n"
     ]
    }
   ],
   "source": [
    "print(d['gbrd'])"
   ]
  },
  {
   "cell_type": "code",
   "execution_count": 25,
   "metadata": {},
   "outputs": [
    {
     "data": {
      "text/plain": [
       "(9779168, 30)"
      ]
     },
     "execution_count": 25,
     "metadata": {},
     "output_type": "execute_result"
    }
   ],
   "source": [
    "df.shape"
   ]
  },
  {
   "cell_type": "code",
   "execution_count": 20,
   "metadata": {},
   "outputs": [
    {
     "name": "stdout",
     "output_type": "stream",
     "text": [
      "wsid          0\n",
      "wsnm          0\n",
      "elvt          0\n",
      "lat           0\n",
      "lon           0\n",
      "inme          0\n",
      "city          0\n",
      "prov          0\n",
      "date          0\n",
      "yr            0\n",
      "mo            0\n",
      "da            0\n",
      "hr            0\n",
      "prcp    8371184\n",
      "stp           0\n",
      "smax          0\n",
      "smin          0\n",
      "gbrd    4108820\n",
      "temp         31\n",
      "dewp        475\n",
      "tmax         26\n",
      "dmax        310\n",
      "tmin         34\n",
      "dmin        807\n",
      "hmdy          0\n",
      "hmax         12\n",
      "hmin         44\n",
      "wdsp     925561\n",
      "wdct          0\n",
      "gust     316474\n",
      "dtype: int64\n"
     ]
    }
   ],
   "source": [
    "print(df.isna().sum())"
   ]
  },
  {
   "cell_type": "markdown",
   "metadata": {},
   "source": [
    "Some stations do not have wind or rain sensors, owing to why there are so many Null values. Will set them to zero to be able to do cleanup, then separate stations to do individual analysis\n",
    "\n",
    "Gbrd has null values for when the sun is down (little less than half the time which makes sense). Make these zero values also to not affect analysis.\n",
    "\n",
    "Other column null values we can set to zero and interpolate to get a value."
   ]
  },
  {
   "cell_type": "markdown",
   "metadata": {},
   "source": [
    "- Separate data for each station\n",
    "- Each station may have it's own issues for data cleanup, so we separate and apply a cleanup function for each"
   ]
  },
  {
   "cell_type": "code",
   "execution_count": 22,
   "metadata": {},
   "outputs": [],
   "source": [
    "df['prcp'].fillna(0,inplace=True)"
   ]
  },
  {
   "cell_type": "code",
   "execution_count": 31,
   "metadata": {},
   "outputs": [],
   "source": [
    "df['gbrd'].fillna(0,inplace=True)"
   ]
  },
  {
   "cell_type": "code",
   "execution_count": 33,
   "metadata": {},
   "outputs": [],
   "source": [
    "df.fillna(0,inplace=True)"
   ]
  },
  {
   "cell_type": "code",
   "execution_count": 34,
   "metadata": {},
   "outputs": [
    {
     "data": {
      "text/plain": [
       "wsid    0\n",
       "wsnm    0\n",
       "elvt    0\n",
       "lat     0\n",
       "lon     0\n",
       "inme    0\n",
       "city    0\n",
       "prov    0\n",
       "date    0\n",
       "yr      0\n",
       "mo      0\n",
       "da      0\n",
       "hr      0\n",
       "prcp    0\n",
       "stp     0\n",
       "smax    0\n",
       "smin    0\n",
       "gbrd    0\n",
       "temp    0\n",
       "dewp    0\n",
       "tmax    0\n",
       "dmax    0\n",
       "tmin    0\n",
       "dmin    0\n",
       "hmdy    0\n",
       "hmax    0\n",
       "hmin    0\n",
       "wdsp    0\n",
       "wdct    0\n",
       "gust    0\n",
       "dtype: int64"
      ]
     },
     "execution_count": 34,
     "metadata": {},
     "output_type": "execute_result"
    }
   ],
   "source": [
    "df.isna().sum()"
   ]
  },
  {
   "cell_type": "code",
   "execution_count": null,
   "metadata": {},
   "outputs": [],
   "source": []
  },
  {
   "cell_type": "markdown",
   "metadata": {},
   "source": [
    "Drop where all sensor columns are 0"
   ]
  },
  {
   "cell_type": "code",
   "execution_count": 36,
   "metadata": {},
   "outputs": [],
   "source": [
    "col = ['prcp', 'stp', 'smax', 'smin', 'gbrd', 'temp',\n",
    "       'dewp', 'tmax', 'dmax', 'tmin', 'dmin', 'hmdy', 'hmax', 'hmin', 'wdsp',\n",
    "       'wdct', 'gust']\n",
    "df = df[(df[col] != 0).any(axis=1)]\n"
   ]
  },
  {
   "cell_type": "code",
   "execution_count": 37,
   "metadata": {},
   "outputs": [
    {
     "data": {
      "text/plain": [
       "(9159199, 30)"
      ]
     },
     "execution_count": 37,
     "metadata": {},
     "output_type": "execute_result"
    }
   ],
   "source": [
    "df.shape"
   ]
  },
  {
   "cell_type": "markdown",
   "metadata": {},
   "source": [
    "9779168 - 9159199 = 619969 columns dropped"
   ]
  },
  {
   "cell_type": "markdown",
   "metadata": {},
   "source": [
    "take care of all but wind data. Look closer into wind data issues"
   ]
  },
  {
   "cell_type": "code",
   "execution_count": 39,
   "metadata": {},
   "outputs": [],
   "source": [
    "df['temp'].replace(0, np.nan, inplace=True)\n",
    "df['temp'].interpolate('time', inplace=True, limit_direction='both')\n",
    "df['dewp'].replace(0, np.nan, inplace=True)\n",
    "df['dewp'].interpolate('time', inplace=True, limit_direction='both')\n",
    "df['tmax'].replace(0, np.nan, inplace=True)\n",
    "df['tmax'].interpolate('time', inplace=True, limit_direction='both')\n",
    "df['tmin'].replace(0, np.nan, inplace=True)\n",
    "df['tmin'].interpolate('time', inplace=True, limit_direction='both')\n",
    "df['dmax'].replace(0, np.nan, inplace=True)\n",
    "df['dmax'].interpolate('time', inplace=True, limit_direction='both')\n",
    "df['dmin'].replace(0, np.nan, inplace=True)\n",
    "df['dmin'].interpolate('time', inplace=True, limit_direction='both')\n",
    "df['hmax'].replace(0, np.nan, inplace=True)\n",
    "df['hmax'].interpolate('time', inplace=True, limit_direction='both')\n",
    "df['hmin'].replace(0, np.nan, inplace=True)\n",
    "df['hmin'].interpolate('time', inplace=True, limit_direction='both')"
   ]
  },
  {
   "cell_type": "markdown",
   "metadata": {},
   "source": [
    "Count number of nonzeros in each column"
   ]
  },
  {
   "cell_type": "code",
   "execution_count": 40,
   "metadata": {},
   "outputs": [
    {
     "data": {
      "text/plain": [
       "wsid    9159199\n",
       "wsnm    9159199\n",
       "elvt    9119489\n",
       "lat     9119489\n",
       "lon     9119489\n",
       "inme    9159199\n",
       "city    9159199\n",
       "prov    9159199\n",
       "date    9159199\n",
       "yr      9159199\n",
       "mo      9159199\n",
       "da      9159199\n",
       "hr      8778203\n",
       "prcp     661305\n",
       "stp     9077445\n",
       "smax    9073730\n",
       "smin    9073810\n",
       "gbrd    4790858\n",
       "temp    9159199\n",
       "dewp    9159198\n",
       "tmax    9159199\n",
       "dmax    9159199\n",
       "tmin    9159199\n",
       "dmin    9159199\n",
       "hmdy    9099495\n",
       "hmax    9159199\n",
       "hmin    9159199\n",
       "wdsp    8025423\n",
       "wdct    8908786\n",
       "gust    8621514\n",
       "dtype: int64"
      ]
     },
     "execution_count": 40,
     "metadata": {},
     "output_type": "execute_result"
    }
   ],
   "source": [
    "df.astype(bool).sum(axis=0)"
   ]
  },
  {
   "cell_type": "markdown",
   "metadata": {},
   "source": [
    "Count number of zeros in each column"
   ]
  },
  {
   "cell_type": "code",
   "execution_count": 44,
   "metadata": {},
   "outputs": [
    {
     "data": {
      "text/plain": [
       "wsid          0\n",
       "wsnm          0\n",
       "elvt      39710\n",
       "lat       39710\n",
       "lon       39710\n",
       "inme          0\n",
       "city          0\n",
       "prov          0\n",
       "date          0\n",
       "yr            0\n",
       "mo            0\n",
       "da            0\n",
       "hr       380996\n",
       "prcp    8497894\n",
       "stp       81754\n",
       "smax      85469\n",
       "smin      85389\n",
       "gbrd    4368341\n",
       "temp          0\n",
       "dewp          1\n",
       "tmax          0\n",
       "dmax          0\n",
       "tmin          0\n",
       "dmin          0\n",
       "hmdy          0\n",
       "hmax          0\n",
       "hmin          0\n",
       "wdsp    1133776\n",
       "wdct     250413\n",
       "gust     537685\n",
       "dtype: int64"
      ]
     },
     "execution_count": 44,
     "metadata": {},
     "output_type": "execute_result"
    }
   ],
   "source": [
    "(df == 0).astype(int).sum(axis=0)"
   ]
  },
  {
   "cell_type": "code",
   "execution_count": 43,
   "metadata": {},
   "outputs": [],
   "source": [
    "df['hmdy'].replace(0, np.nan, inplace=True)\n",
    "df['hmdy'].interpolate('time', inplace=True, limit_direction='both')"
   ]
  },
  {
   "cell_type": "code",
   "execution_count": null,
   "metadata": {},
   "outputs": [],
   "source": []
  },
  {
   "cell_type": "markdown",
   "metadata": {},
   "source": [
    "look into why elevation, lat, lon is zero (all same weather station?), same with smin, smax etc, and look at surrornding values to see if it makes sense\n",
    "\n",
    "hr, prcp, and gbrd are ok to be 0\n",
    "\n",
    "https://stackoverflow.com/questions/40660088/get-first-row-of-dataframe-in-python-pandas-based-on-criteria\n",
    "\n",
    "then work on wind stuff to clean that data up"
   ]
  },
  {
   "cell_type": "code",
   "execution_count": 45,
   "metadata": {},
   "outputs": [],
   "source": [
    "df.to_hdf('cleaning_up_df.hdf','mydata',mode='w')"
   ]
  },
  {
   "cell_type": "code",
   "execution_count": null,
   "metadata": {},
   "outputs": [],
   "source": []
  }
 ],
 "metadata": {
  "kernelspec": {
   "display_name": "Python 3",
   "language": "python",
   "name": "python3"
  },
  "language_info": {
   "codemirror_mode": {
    "name": "ipython",
    "version": 3
   },
   "file_extension": ".py",
   "mimetype": "text/x-python",
   "name": "python",
   "nbconvert_exporter": "python",
   "pygments_lexer": "ipython3",
   "version": "3.6.5"
  }
 },
 "nbformat": 4,
 "nbformat_minor": 2
}
