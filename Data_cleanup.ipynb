{
 "cells": [
  {
   "cell_type": "code",
   "execution_count": 7,
   "metadata": {},
   "outputs": [],
   "source": [
    "import pandas as pd\n",
    "import numpy as np\n",
    "import matplotlib.pyplot as plt\n",
    "from IPython.display import display\n",
    "pd.options.display.max_columns = None\n",
    "pd.options.display.max_rows = None"
   ]
  },
  {
   "cell_type": "code",
   "execution_count": 8,
   "metadata": {},
   "outputs": [],
   "source": [
    "df = pd.read_csv('/Users/sanjayroberts1/Desktop/data_science_tools1/sudeste.csv')"
   ]
  },
  {
   "cell_type": "code",
   "execution_count": 9,
   "metadata": {},
   "outputs": [],
   "source": [
    "df = df.set_index('mdct')\n",
    "df.index = pd.to_datetime(df.index)"
   ]
  },
  {
   "cell_type": "markdown",
   "metadata": {},
   "source": [
    "Interpolation for temperature "
   ]
  },
  {
   "cell_type": "code",
   "execution_count": 10,
   "metadata": {},
   "outputs": [
    {
     "data": {
      "text/plain": [
       "array([29.3, 29. , 27.4, 25.8, 25.4, 23.8, 22. , 19.7, 18.3, 22.9, 25. ,\n",
       "        0. , 31. , 32.7, 33.7, 34.7, 34.3, 32.6, 29.9, 31.5, 30.3, 30.2,\n",
       "       28.1, 26.6, 25.1, 23.7, 21.5, 21.2, 19.2, 25.7, 27.7, 29.5, 31.1,\n",
       "       33.1, 33.9, 35.1, 36.4, 36.6, 35.7, 33. , 28. , 31.4, 31.6, 28.5,\n",
       "       27. , 22.7, 25.6, 24.7, 27.1, 34.2, 35.2, 35.8, 36.8, 36. , 32.8,\n",
       "       28.4, 27.8, 30.6, 28.3, 26.7, 23.3, 22.5, 21. , 22.6, 31.3, 34.9,\n",
       "       26.4, 24.8, 24. , 26.8, 24.4, 23.2, 25.5, 28.2, 30.7, 32.2, 34.1,\n",
       "       35.4, 35.5, 33.4, 24.2, 21.9, 26. , 24.5, 22.4, 21.8, 23. , 29.2,\n",
       "       32.4, 25.9, 24.3, 27.9, 22.1, 20.9, 20.5, 19.8, 19.4, 27.2, 28.9,\n",
       "       30.1, 34.8, 35. , 32.3, 26.1, 24.9, 21.1, 22.3, 25.2, 29.1, 33.8,\n",
       "       34.4, 34.5, 33.5, 31.8, 29.8, 28.6, 26.2, 28.7, 32. , 32.9, 32.5,\n",
       "       30. , 31.2, 34. , 35.3, 31.7, 32.1, 31.9, 33.3, 33.2, 29.4, 24.6,\n",
       "       30.8, 35.6, 26.9, 28.8, 35.9, 27.5, 26.3, 26.5, 29.6, 36.1, 27.6,\n",
       "       27.3, 29.7, 33.6, 30.5, 34.6, 36.7, 23.9, 30.4, 25.3, 30.9, 36.2,\n",
       "       23.4, 24.1, 22.8, 23.6, 22.2, 21.7, 21.4, 20.7, 20.6, 20.2, 23.1,\n",
       "       20.8, 23.5, 21.6, 21.3, 20. , 19.1, 20.4, 19.9, 20.3, 20.1, 18.9,\n",
       "       18.5, 19. , 18.6, 18.4, 19.3, 18.1, 17.3, 17. , 16.6, 17.7, 19.6,\n",
       "       18.8, 17.5, 18. , 17.4, 19.5, 17.8, 18.2, 16.9, 16.7, 16.4, 15.8,\n",
       "       15.7, 15.4, 14.7, 14.2, 17.6, 17.1, 16.5, 16.1, 15.9, 15.2, 14.8,\n",
       "       15.6, 17.9, 16.8, 16.3, 18.7, 36.5, 36.3, 37.1, 16.2, 17.2, 37.5,\n",
       "       36.9, 37. , 14.9, 37.6, 37.3, 37.4, 37.7, 16. , 15.5, 37.2, 38.2,\n",
       "       37.9, 38.3, 38.5, 38.6, 38.4, 38.1, 37.8, 38. , 15.1, 14.5, 14.4,\n",
       "       15. , 15.3, 14.3, 14.1, 13.9, 14.6, 13.4, 13.1, 14. , 13.5, 12.8,\n",
       "       12.7, 12.3, 12.1, 12. , 12.6, 13.6, 13.2, 12.5, 13.3, 12.9, 13. ,\n",
       "       13.7, 12.4, 13.8, 11.8, 11.7, 11.6, 11.5, 11.9, 12.2, 11.3, 10.7,\n",
       "       10.9, 10.8, 11.4, 11.1, 11. , 11.2, 10.3,  9.9, 10.5, 10.2, 10.1,\n",
       "       10.4, 10.6,  9.7,  9.3,  9.4,  8.8,  9.6,  9.5,  9.2, 10. ,  9.8,\n",
       "        9.1,  8.7,  8.9,  8.3,  8.1,  8.2,  8.6,  8.4,  8.5,  9. , 39.4,\n",
       "       39.2, 39.3, 38.9, 39.1, 39. , 39.5, 38.7, 39.7, 38.8, 39.6, 40.2,\n",
       "       39.9, 40. , 39.8, 40.6, 40.8, 40.7, 41. , 41.1, 42.7, 43. , 42.8,\n",
       "       42.2, 40.1, 40.4, 41.6, 42. , 43.3, 42.9, 41.4, 42.5, 42.4, 41.9,\n",
       "       43.5, 40.9, 40.3, 40.5, 43.4, 41.5, 42.6, 41.3, 43.2, 42.1,  7.7,\n",
       "        7.9,  8. ,  7.6,  7.1,  7.5,  7.4,  6.6,  5.9,  5.3,  3.9,  6.2,\n",
       "        7. ,  6.9,  7.3,  7.8,  6.8,  6.7,  6.3,  6.4,  6.1,  5.5,  5.7,\n",
       "        6. ,  5.8,  5.4,  5.6,  5.1,  5. ,  6.5,  7.2,  4.8,  4.3,  4.5,\n",
       "        4. ,  5.2,  4.2,  4.9,  3.2,  2.7,  2. ,  1.7,  1.6,  4.4,  3.1,\n",
       "        2.2,  1.5,  3.8,  4.6,  4.7,  3.5,  2.1,  2.6,  4.1,  2.8,  1.2,\n",
       "        3.7,  3.4,  1.8,  1.3,  1.1,  0.9,  3. ,  2.3,  1.9,  2.9,  3.6,\n",
       "        1.4,  0.4,  0.5,  0.8,  0.1,  0.7,  3.3,  2.4,  2.5, -0.4,  nan,\n",
       "       -0.1,  0.3, -0.2, -0.3,  0.2,  1. , -0.8,  0.6, -0.5, -0.9, -1.3,\n",
       "       -1.1, -0.6, -1. , -1.9, -1.6, -1.2, -1.4, -0.7, -1.8, -2.4, -2.7,\n",
       "       -2.2, -2.3, -3. , -1.7, -1.5, -2.6, -3.1, -3.4, -3.5, -3.2, -2.8,\n",
       "       -2. , -2.9, -2.5, 44.8, 44. , -3.8, 44.6, 44.5, 44.9, 41.7, -3.6,\n",
       "       -2.1, -3.3])"
      ]
     },
     "execution_count": 10,
     "metadata": {},
     "output_type": "execute_result"
    }
   ],
   "source": [
    "df.temp.unique()"
   ]
  },
  {
   "cell_type": "markdown",
   "metadata": {},
   "source": [
    "- Separate data for each station\n",
    "- Each station may have it's own issues for data cleanup, so we separate and apply a cleanup function for each"
   ]
  },
  {
   "cell_type": "code",
   "execution_count": null,
   "metadata": {},
   "outputs": [],
   "source": [
    "individual_stations = {}\n",
    "for each in df.wsid.unique():\n",
    "    is_ = df['wsid'] == each\n",
    "    k = str(each)\n",
    "    individual_stations[k] = df[is_]"
   ]
  },
  {
   "cell_type": "code",
   "execution_count": null,
   "metadata": {},
   "outputs": [],
   "source": [
    "individual_stations.keys()"
   ]
  },
  {
   "cell_type": "code",
   "execution_count": null,
   "metadata": {},
   "outputs": [],
   "source": []
  },
  {
   "cell_type": "code",
   "execution_count": null,
   "metadata": {},
   "outputs": [],
   "source": []
  },
  {
   "cell_type": "code",
   "execution_count": null,
   "metadata": {},
   "outputs": [],
   "source": []
  },
  {
   "cell_type": "code",
   "execution_count": null,
   "metadata": {},
   "outputs": [],
   "source": []
  },
  {
   "cell_type": "code",
   "execution_count": null,
   "metadata": {},
   "outputs": [],
   "source": []
  },
  {
   "cell_type": "code",
   "execution_count": 5,
   "metadata": {},
   "outputs": [],
   "source": [
    "df['temp'].replace(0, np.nan, inplace=True)"
   ]
  },
  {
   "cell_type": "code",
   "execution_count": 6,
   "metadata": {},
   "outputs": [],
   "source": [
    "df.interpolate('time', inplace=True, limit_direction='both')"
   ]
  },
  {
   "cell_type": "code",
   "execution_count": null,
   "metadata": {},
   "outputs": [],
   "source": []
  },
  {
   "cell_type": "code",
   "execution_count": null,
   "metadata": {},
   "outputs": [],
   "source": []
  },
  {
   "cell_type": "code",
   "execution_count": null,
   "metadata": {},
   "outputs": [],
   "source": [
    "rain_df = station_385_year[['mo','prcp']].fillna(0)"
   ]
  },
  {
   "cell_type": "code",
   "execution_count": null,
   "metadata": {},
   "outputs": [],
   "source": [
    "total_rain = rain_df.groupby('mo').sum().reset_index()"
   ]
  },
  {
   "cell_type": "code",
   "execution_count": null,
   "metadata": {},
   "outputs": [],
   "source": [
    "total_rain.plot( x='mo', y='prcp', kind='bar')"
   ]
  },
  {
   "cell_type": "code",
   "execution_count": null,
   "metadata": {},
   "outputs": [],
   "source": []
  },
  {
   "cell_type": "code",
   "execution_count": null,
   "metadata": {},
   "outputs": [],
   "source": [
    "average_rain = rain_df.groupby('mo').mean().reset_index()"
   ]
  },
  {
   "cell_type": "code",
   "execution_count": null,
   "metadata": {},
   "outputs": [],
   "source": [
    "average_rain.plot( x='mo', y='prcp', kind='bar')"
   ]
  },
  {
   "cell_type": "code",
   "execution_count": null,
   "metadata": {},
   "outputs": [],
   "source": []
  },
  {
   "cell_type": "code",
   "execution_count": null,
   "metadata": {},
   "outputs": [],
   "source": []
  },
  {
   "cell_type": "code",
   "execution_count": null,
   "metadata": {},
   "outputs": [],
   "source": []
  },
  {
   "cell_type": "code",
   "execution_count": null,
   "metadata": {},
   "outputs": [],
   "source": []
  },
  {
   "cell_type": "code",
   "execution_count": null,
   "metadata": {},
   "outputs": [],
   "source": []
  },
  {
   "cell_type": "code",
   "execution_count": null,
   "metadata": {},
   "outputs": [],
   "source": []
  },
  {
   "cell_type": "code",
   "execution_count": null,
   "metadata": {},
   "outputs": [],
   "source": []
  },
  {
   "cell_type": "code",
   "execution_count": null,
   "metadata": {},
   "outputs": [],
   "source": []
  },
  {
   "cell_type": "code",
   "execution_count": null,
   "metadata": {},
   "outputs": [],
   "source": []
  }
 ],
 "metadata": {
  "kernelspec": {
   "display_name": "Python 3",
   "language": "python",
   "name": "python3"
  },
  "language_info": {
   "codemirror_mode": {
    "name": "ipython",
    "version": 3
   },
   "file_extension": ".py",
   "mimetype": "text/x-python",
   "name": "python",
   "nbconvert_exporter": "python",
   "pygments_lexer": "ipython3",
   "version": "3.6.5"
  }
 },
 "nbformat": 4,
 "nbformat_minor": 2
}
