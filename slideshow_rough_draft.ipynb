{
 "cells": [
  {
   "cell_type": "markdown",
   "metadata": {},
   "source": [
    "https://github.com/psnegi/data_science_tools1/blob/master/project_rubric.org\n",
    "\n",
    "https://github.com/psnegi/data_science_tools1/blob/master/project_presentation.org\n",
    "    \n",
    "https://github.com/psnegi/data_science_tools1"
   ]
  },
  {
   "cell_type": "code",
   "execution_count": null,
   "metadata": {},
   "outputs": [],
   "source": []
  },
  {
   "cell_type": "markdown",
   "metadata": {},
   "source": [
    "### Motivation\n",
    "\n",
    "- Our dataset covers hourly weather data from 122 weathers stations of the southeast region of Brazil from 2000 - 2016. The southeast include the states of Rio de Janeiro, São Paulo, Minas Gerais e Espirito Santo. \n",
    "\n",
    "- 17 climate parameters in total. Collected by INMET (National Meteorological Institute - Brazil)\n",
    "\n",
    "\n",
    "Includes: \n",
    "- Air pressure\n",
    "- Temperature\n",
    "- Humidity\n",
    "- Dew Point\n",
    "- Solar Radiation\n",
    "- Wind Speed, Direction, and Gust\n",
    "- Precipitation\n"
   ]
  },
  {
   "cell_type": "markdown",
   "metadata": {},
   "source": [
    "### Research Questions\n",
    "\n",
    "What real world problem you trying to solve and why. What is input and output of your analysis.\n",
    "\n",
    "\n",
    "\n",
    "\n",
    "\n"
   ]
  },
  {
   "cell_type": "code",
   "execution_count": null,
   "metadata": {},
   "outputs": [],
   "source": []
  },
  {
   "cell_type": "code",
   "execution_count": null,
   "metadata": {},
   "outputs": [],
   "source": []
  },
  {
   "cell_type": "markdown",
   "metadata": {},
   "source": [
    "### Data munging/Data wrangling and statistical summary\n",
    "\n",
    "- Anything unusual you have to face in this data cleaning activity. Please share.\n",
    "- Data summary statistics and interpretation.\n",
    "\n",
    "- Time series data. Weather sensors are finnicky and liable to break/lose connectivity and report incorrect readings for that hour\n",
    "- Not all weather stations seemed to have access to every sensor --> No wind or precip data for a few stations. \n",
    "- Some stations did not capture wind gust data, though they have wind direction and speed. Then some stations do not capture all 3 measurements\n",
    "- Not all stations came online at the same time. Some start at 2000. Some start later. Some went out of commission for a few months or years and then came back online. Huge gaps in the data because of this. \n",
    "\n",
    "\n",
    "- Solar radiation gives NaN values when the sun sets each day. About 43% of our solar readings are NaN. Assumption -> no solar radiation at night. Changed all Nan's to 0\n",
    "- Precipitation gives Nan values for each hour it does not rain. Assumption -> no rain during NaN values. Changed all NaN's to 0\n",
    "\n",
    "- Intermitent missing values/Zero values in all columns. Mostly one hour missing here and there.\n",
    "- Using Pandas Interpolation worked very well to fill in the gaps. For example, may have temperature readings like this:\n",
    "\n",
    "\n",
    "- hour temp\n",
    "- 10    27\n",
    "- 11    27.8\n",
    "- 12    0\n",
    "- 13    28.4\n",
    "- 14    28.2\n",
    "\n",
    "\n",
    "- First changed 0 values to NaN. Then used interpolation to fill in values\n",
    "- This worked very well for temperature, humidity, and dewpoint\n",
    "\n",
    "\n",
    "- Get unique values for each column to take a quick look if anything looks out of whack (0 air pressure, 0 humidity, etc)\n",
    "\n",
    "\n",
    "\n",
    "- Instances where entire station goes offline, reports 0/NaN values for all columns.\n",
    "    - To deal with this, we dropped rows where all sensor columns are 0\n",
    "    \n",
    "    \n",
    "- One station had all meta data -- elevation, latitude, and longitude -- set to 0. To clean this up, we looked up the values for each of these for the city in which the station was located\n",
    "\n",
    "\n",
    "- Air pressure -> Standard temp and pressure, max air pressure, min air pressure\n",
    "    - Big issue with these columns: \n",
    "     - stp = smax for ~40% of the rows\n",
    "     - stp = smin for ~40% \n",
    "     - smax = smin for ~1%\n",
    "     - And the rest have have independent values for all 3.\n",
    "     - total - ((stp=smax) +(stp=smin) + (smax=smin)) \n",
    "     - 9159199 - (3652525 + 3458158 + 92853) = 1955663 rows "
   ]
  },
  {
   "cell_type": "code",
   "execution_count": null,
   "metadata": {},
   "outputs": [],
   "source": []
  },
  {
   "cell_type": "code",
   "execution_count": null,
   "metadata": {},
   "outputs": [],
   "source": []
  },
  {
   "cell_type": "code",
   "execution_count": null,
   "metadata": {},
   "outputs": [],
   "source": []
  },
  {
   "cell_type": "markdown",
   "metadata": {},
   "source": [
    "### Visualizations\n",
    "\n",
    "What to include?\n",
    "- pick one station and give daily, monthly, yearly, and entire time plots for temp, hmdy, etc\n",
    "- rain plots per province?\n",
    "- 'Good' weather station vs 'bad' weather station\n",
    "- Show plot of pre-clean up, pre-interpolation (changing 0's to Nan's) and post interpolation in data exploration notebook\n",
    "\n",
    "Visualization with seaborn?"
   ]
  },
  {
   "cell_type": "code",
   "execution_count": null,
   "metadata": {},
   "outputs": [],
   "source": []
  },
  {
   "cell_type": "code",
   "execution_count": null,
   "metadata": {},
   "outputs": [],
   "source": []
  },
  {
   "cell_type": "code",
   "execution_count": null,
   "metadata": {},
   "outputs": [],
   "source": []
  },
  {
   "cell_type": "markdown",
   "metadata": {},
   "source": [
    "bibliography:\n",
    "   \n",
    "- https://nbviewer.jupyter.org/github/mccrayc/tutorials/blob/master/1_intro/Intro%20to%20Python%20Programming%20-%2021%20Feb%202018.ipynb\n",
    "\n",
    "- https://opensource.com/article/17/9/messy-sensor-data\n",
    "\n",
    "- https://www.dataquest.io/blog/tutorial-time-series-analysis-pandas/\n",
    "\n",
    "    "
   ]
  },
  {
   "cell_type": "code",
   "execution_count": null,
   "metadata": {},
   "outputs": [],
   "source": []
  },
  {
   "cell_type": "code",
   "execution_count": null,
   "metadata": {},
   "outputs": [],
   "source": []
  },
  {
   "cell_type": "code",
   "execution_count": null,
   "metadata": {},
   "outputs": [],
   "source": []
  },
  {
   "cell_type": "code",
   "execution_count": null,
   "metadata": {},
   "outputs": [],
   "source": []
  },
  {
   "cell_type": "code",
   "execution_count": null,
   "metadata": {},
   "outputs": [],
   "source": []
  },
  {
   "cell_type": "code",
   "execution_count": null,
   "metadata": {},
   "outputs": [],
   "source": []
  },
  {
   "cell_type": "code",
   "execution_count": null,
   "metadata": {},
   "outputs": [],
   "source": []
  },
  {
   "cell_type": "code",
   "execution_count": null,
   "metadata": {},
   "outputs": [],
   "source": []
  }
 ],
 "metadata": {
  "kernelspec": {
   "display_name": "Python 3",
   "language": "python",
   "name": "python3"
  },
  "language_info": {
   "codemirror_mode": {
    "name": "ipython",
    "version": 3
   },
   "file_extension": ".py",
   "mimetype": "text/x-python",
   "name": "python",
   "nbconvert_exporter": "python",
   "pygments_lexer": "ipython3",
   "version": "3.6.5"
  }
 },
 "nbformat": 4,
 "nbformat_minor": 2
}
